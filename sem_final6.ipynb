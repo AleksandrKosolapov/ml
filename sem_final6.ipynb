{
 "cells": [
  {
   "cell_type": "code",
   "execution_count": 1,
   "id": "d0b22bb7",
   "metadata": {},
   "outputs": [
    {
     "data": {
      "text/html": [
       "<style>.container { width:98% !important; }</style>"
      ],
      "text/plain": [
       "<IPython.core.display.HTML object>"
      ]
     },
     "metadata": {},
     "output_type": "display_data"
    }
   ],
   "source": [
    "import pandas as pd\n",
    "import numpy as np\n",
    "import swifter\n",
    "import gc\n",
    "pd.set_option('display.max_rows', 5000)\n",
    "pd.set_option('display.max_columns', 1500)\n",
    "pd.set_option('display.width', 1000)\n",
    "from IPython.display import display, HTML\n",
    "display(HTML(\"<style>.container { width:98% !important; }</style>\"))"
   ]
  },
  {
   "cell_type": "code",
   "execution_count": null,
   "id": "a714888f",
   "metadata": {},
   "outputs": [],
   "source": [
    "train = pd.read_pickle('temp_train_ml2')"
   ]
  },
  {
   "cell_type": "code",
   "execution_count": null,
   "id": "6a0b8059",
   "metadata": {},
   "outputs": [],
   "source": [
    "train['slash_deep'] = 0\n",
    "train['extdeep'] = 0\n",
    "\n",
    "train['slash_deep'] = train['TEXT_after_slash_full'].swifter.apply(lambda x: x.count(' ')+1)\n",
    "train['extdeep'] = train['TEXT_extdomain'].swifter.apply(lambda x: len(x.split(' '))-1)\n",
    "\n",
    "train['target_slash_deep'] = 0\n",
    "train['target_extdeep'] = 0\n",
    "\n",
    "train['target_slash_deep'] = train['TEXT_target_after_slash_full'].swifter.apply(lambda x: x.count(' ')+1)\n",
    "train['target_extdeep'] = train['TEXT_target_extdomain'].swifter.apply(lambda x: len(x.split(' '))-1)"
   ]
  },
  {
   "cell_type": "code",
   "execution_count": null,
   "id": "2e3a930b",
   "metadata": {},
   "outputs": [],
   "source": [
    "train.loc[train['extdeep']>0,'base_domain'] =  train.loc[train['extdeep']>0,'TEXT_extdomain'].swifter.apply(lambda x: x.split(' ')[-2])\n",
    "train.loc[train['extdeep']>1,'l2_domain'] = train.loc[train['extdeep']>1,'TEXT_extdomain'].swifter.apply(lambda x: x.split(' ')[-3])\n",
    "train.loc[train['extdeep']>2,'l3_domain'] = train.loc[train['extdeep']>2,'TEXT_extdomain'].swifter.apply(lambda x: x.split(' ')[-4])\n",
    "train.loc[train['extdeep']>3,'l4_domain'] = train.loc[train['extdeep']>3,'TEXT_extdomain'].swifter.apply(lambda x: x.split(' ')[-5])\n",
    "\n",
    "train['zone'] = train['TEXT_extdomain'].swifter.apply(lambda x: x.split(' ')[-1])\n",
    "\n",
    "train.loc[train['target_extdeep']>0,'target_base_domain'] =  train.loc[train['target_extdeep']>0,'TEXT_target_extdomain'].swifter.apply(lambda x: x.split(' ')[-2])\n",
    "train.loc[train['target_extdeep']>1,'target_l2_domain'] = train.loc[train['target_extdeep']>1,'TEXT_target_extdomain'].swifter.apply(lambda x: x.split(' ')[-3])\n",
    "train.loc[train['target_extdeep']>2,'target_l3_domain'] = train.loc[train['target_extdeep']>2,'TEXT_target_extdomain'].swifter.apply(lambda x: x.split(' ')[-4])\n",
    "train.loc[train['target_extdeep']>3,'target_l4_domain'] = train.loc[train['target_extdeep']>3,'TEXT_target_extdomain'].swifter.apply(lambda x: x.split(' ')[-5])\n",
    "\n",
    "train['target_zone'] = train['TEXT_target_extdomain'].swifter.apply(lambda x: x.split(' ')[-1])\n",
    "\n",
    "for i in range(1,9):\n",
    "    train.loc[train['slash_deep']>=i,'slash{}'.format(i)] = train.loc[train['slash_deep']>=i,'TEXT_after_slash_full'].swifter.apply(lambda x: x.split(' ')[i-1])\n",
    "for i in range(1,9):\n",
    "    train.loc[train['target_slash_deep']>=i,'target_slash{}'.format(i)] = train.loc[train['target_slash_deep']>=i,'TEXT_target_after_slash_full'].swifter.apply(lambda x: x.split(' ')[i-1])"
   ]
  },
  {
   "cell_type": "code",
   "execution_count": null,
   "id": "0e3ad7e7",
   "metadata": {},
   "outputs": [],
   "source": [
    "print(list(train.columns))"
   ]
  },
  {
   "cell_type": "code",
   "execution_count": null,
   "id": "e6ec5f3e",
   "metadata": {},
   "outputs": [],
   "source": [
    "['base_domain', 'l2_domain', 'l3_domain', 'l4_domain', 'zone', 'target_base_domain', 'target_l2_domain', 'target_l3_domain', 'target_l4_domain',\n",
    "'target_zone', 'slash1', 'slash2', 'slash3', 'slash4', 'slash5', 'slash6', 'slash7', 'slash8', 'target_slash1', 'target_slash2', 'target_slash3',\n",
    "'target_slash4', 'target_slash5', 'target_slash6', 'target_slash7', 'target_slash8']"
   ]
  },
  {
   "cell_type": "code",
   "execution_count": null,
   "id": "943bf36d",
   "metadata": {},
   "outputs": [],
   "source": []
  },
  {
   "cell_type": "code",
   "execution_count": null,
   "id": "c55550d7",
   "metadata": {
    "scrolled": true
   },
   "outputs": [],
   "source": [
    "for column in ['base_domain', 'l2_domain', 'l3_domain', 'l4_domain', 'zone', 'target_base_domain', 'target_l2_domain', 'target_l3_domain', 'target_l4_domain',\n",
    "'target_zone', 'slash1', 'slash2', 'slash3', 'slash4', 'slash5', 'slash6', 'slash7', 'slash8', 'target_slash1', 'target_slash2', 'target_slash3',\n",
    "'target_slash4', 'target_slash5', 'target_slash6', 'target_slash7', 'target_slash8']:\n",
    "    print(column)\n",
    "    train[column] = train[column].factorize()[0]+2\n",
    "    train[column] = train[column].factorize()[0]+1\n",
    "    c_min = train[column].min()\n",
    "    c_max = train[column].max()\n",
    "    if str(train[column].dtype)[:3] == 'int':\n",
    "        if c_min > np.iinfo(np.int8).min and c_max < np.iinfo(np.int8).max:\n",
    "            train[column] = train[column].astype(np.int8)\n",
    "        elif c_min > np.iinfo(np.int16).min and c_max < np.iinfo(np.int16).max:\n",
    "            train[column] = train[column].astype(np.int16)\n",
    "        elif c_min > np.iinfo(np.int32).min and c_max < np.iinfo(np.int32).max:\n",
    "            train[column] = train[column].astype(np.int32)\n",
    "        elif c_min > np.iinfo(np.int64).min and c_max < np.iinfo(np.int64).max:\n",
    "            train[column] = train[column].astype(np.int64)  \n",
    "    else:\n",
    "        if c_min > np.finfo(np.float16).min and c_max < np.finfo(np.float16).max:\n",
    "            train[column] = train[column].astype(np.float16)\n",
    "        elif c_min > np.finfo(np.float32).min and c_max < np.finfo(np.float32).max:\n",
    "            train[column] = train[column].astype(np.float32)\n",
    "        else:\n",
    "            train[column] = train[column].astype(np.float64)"
   ]
  },
  {
   "cell_type": "code",
   "execution_count": null,
   "id": "6d6d3c9e",
   "metadata": {},
   "outputs": [],
   "source": [
    "del train['target_1extdomain']"
   ]
  },
  {
   "cell_type": "code",
   "execution_count": null,
   "id": "ab1cf095",
   "metadata": {},
   "outputs": [],
   "source": [
    "del train['slash_1']\n",
    "del train['slash_2']"
   ]
  },
  {
   "cell_type": "code",
   "execution_count": null,
   "id": "d84acf1b",
   "metadata": {},
   "outputs": [],
   "source": [
    "cats = ['extdomain',\n",
    " 'after_slash_full',\n",
    " 'ext2',\n",
    " 'target_extdomain',\n",
    " 'target_after_slash_full',\n",
    " 'target_ext1',\n",
    " 'inter_text_after_slash_TEXT',\n",
    " 'category_1',\n",
    " 'category_2',\n",
    " 'target_category_1',\n",
    " 'target_category_2'] + ['base_domain', 'l2_domain', 'l3_domain', 'l4_domain', 'zone', 'target_base_domain', 'target_l2_domain', 'target_l3_domain', 'target_l4_domain',\n",
    "'target_zone', 'slash1', 'slash2', 'slash3', 'slash4', 'slash5', 'slash6', 'slash7', 'slash8', 'target_slash1', 'target_slash2', 'target_slash3',\n",
    "'target_slash4', 'target_slash5', 'target_slash6', 'target_slash7', 'target_slash8']"
   ]
  },
  {
   "cell_type": "code",
   "execution_count": null,
   "id": "f2ab1566",
   "metadata": {},
   "outputs": [],
   "source": [
    "for col in ['TEXT_inter_text_2slash_TEXT',\n",
    " 'TEXT_extdomain',\n",
    " 'TEXT_after_slash_full',\n",
    " 'TEXT_ext1',\n",
    " 'TEXT_ext',\n",
    " 'TEXT_target_extdomain',\n",
    " 'TEXT_target_after_slash_full',\n",
    " 'TEXT_target_ext']:\n",
    "    del train[col]"
   ]
  },
  {
   "cell_type": "code",
   "execution_count": null,
   "id": "dcdfc763",
   "metadata": {
    "scrolled": true
   },
   "outputs": [],
   "source": [
    "for col in cats:\n",
    "    print(col)\n",
    "    \n",
    "    if 'target' in col:\n",
    "        cat_packer = train[train['is_referrer']!=2][col].value_counts().reset_index()\n",
    "        na_cat = int(train[col].max())\n",
    "        z = list(set(cat_packer.loc[cat_packer[col]>=45,'index'].values).intersection(set(train[train['is_referrer']==2][col].unique())))\n",
    "        train.loc[~train[col].isin(z),col] = na_cat\n",
    "    else:\n",
    "        cat_packer = train[train['is_referrer']!=2][col].value_counts().reset_index()\n",
    "        na_cat = int(train[col].max())\n",
    "        z = list(set(cat_packer.loc[cat_packer[col]>=30,'index'].values).intersection(set(train[train['is_referrer']==2][col].unique())))\n",
    "        train.loc[~train[col].isin(z),col] = na_cat"
   ]
  },
  {
   "cell_type": "code",
   "execution_count": null,
   "id": "53822f31",
   "metadata": {},
   "outputs": [],
   "source": [
    "def reduce_mem_usage(df):\n",
    "    \"\"\" iterate through all the columns of a dataframe and modify the data type\n",
    "        to reduce memory usage.        \n",
    "    \"\"\"\n",
    "    start_mem = df.memory_usage().sum() / 1024**2\n",
    "    print('Memory usage of dataframe is {:.2f} MB'.format(start_mem))\n",
    "    \n",
    "    for col in df.columns:\n",
    "        if col not in ['url', 'referrer_num']:\n",
    "            col_type = df[col].dtype\n",
    "\n",
    "            if col_type != object:\n",
    "                c_min = df[col].min()\n",
    "                c_max = df[col].max()\n",
    "                if str(col_type)[:3] == 'int':\n",
    "                    if c_min > np.iinfo(np.int8).min and c_max < np.iinfo(np.int8).max:\n",
    "                        df[col] = df[col].astype(np.int8)\n",
    "                    elif c_min > np.iinfo(np.int16).min and c_max < np.iinfo(np.int16).max:\n",
    "                        df[col] = df[col].astype(np.int16)\n",
    "                    elif c_min > np.iinfo(np.int32).min and c_max < np.iinfo(np.int32).max:\n",
    "                        df[col] = df[col].astype(np.int32)\n",
    "                    elif c_min > np.iinfo(np.int64).min and c_max < np.iinfo(np.int64).max:\n",
    "                        df[col] = df[col].astype(np.int64)  \n",
    "                else:\n",
    "                    if c_min > np.finfo(np.float16).min and c_max < np.finfo(np.float16).max:\n",
    "                        df[col] = df[col].astype(np.float16)\n",
    "                    elif c_min > np.finfo(np.float32).min and c_max < np.finfo(np.float32).max:\n",
    "                        df[col] = df[col].astype(np.float32)\n",
    "                    else:\n",
    "                        df[col] = df[col].astype(np.float64)\n",
    "            else:\n",
    "                pass\n",
    "\n",
    "    end_mem = df.memory_usage().sum() / 1024**2\n",
    "    print('Memory usage after optimization is: {:.2f} MB'.format(end_mem))\n",
    "    print('Decreased by {:.1f}%'.format(100 * (start_mem - end_mem) / start_mem))\n",
    "    \n",
    "    return df\n",
    "reduce_mem_usage(train)"
   ]
  },
  {
   "cell_type": "code",
   "execution_count": null,
   "id": "623506ed",
   "metadata": {
    "scrolled": true
   },
   "outputs": [],
   "source": [
    "share = 0.01\n",
    "dfx = train.sample(int(train.shape[0]*share))\n",
    "dfx = dfx.T.drop_duplicates().T\n",
    "train = train[dfx.columns]"
   ]
  },
  {
   "cell_type": "code",
   "execution_count": null,
   "id": "d6eeef5d",
   "metadata": {},
   "outputs": [],
   "source": [
    "train"
   ]
  },
  {
   "cell_type": "code",
   "execution_count": null,
   "id": "8b8a0d37",
   "metadata": {},
   "outputs": [],
   "source": [
    "train.to_pickle('temp_train_ml3')"
   ]
  },
  {
   "cell_type": "code",
   "execution_count": 6,
   "id": "b18ab5cf",
   "metadata": {},
   "outputs": [],
   "source": [
    "train = pd.read_pickle('temp_train_ml3')"
   ]
  },
  {
   "cell_type": "code",
   "execution_count": 7,
   "id": "f380b4a9",
   "metadata": {},
   "outputs": [],
   "source": [
    "cats = ['extdomain',\n",
    " 'after_slash_full',\n",
    " 'ext2',\n",
    " 'target_extdomain',\n",
    " 'target_after_slash_full',\n",
    " 'target_ext1',\n",
    " 'inter_text_after_slash_TEXT',\n",
    " 'category_1',\n",
    " 'category_2',\n",
    " 'target_category_1',\n",
    " 'target_category_2',\n",
    " 'base_domain',\n",
    " 'l2_domain',\n",
    " 'l3_domain',\n",
    " 'zone',\n",
    " 'target_base_domain',\n",
    " 'target_l2_domain',\n",
    " 'target_l3_domain',\n",
    " 'target_zone',\n",
    " 'slash1',\n",
    " 'slash2',\n",
    " 'slash3',\n",
    " 'target_slash1',\n",
    " 'target_slash2',\n",
    " 'target_slash3',\n",
    " 'target_slash4',\n",
    " 'past1_base_domain',\n",
    " 'past2_base_domain',\n",
    " 'future1_base_domain',\n",
    " 'past1_zone',\n",
    " 'future-1_zone',\n",
    " 'past2_zone',\n",
    " 'past1_after_slash_full',\n",
    " 'future-1_after_slash_full',\n",
    " 'past2_after_slash_full',\n",
    " 'past1_after_slash_2',\n",
    " 'future-1_after_slash_2',\n",
    " 'future-1_after_slash_3',\n",
    " 'past2_after_slash_3',\n",
    " 'past1_after_slash_4',\n",
    " 'future-1_after_slash_4',\n",
    " 'past2_after_slash_4',\n",
    " 'past1_after_slash_5',\n",
    " 'future-1_after_slash_5',\n",
    " 'past2_after_slash_5',\n",
    " 'event_past1_target_domain',\n",
    " 'event_past2_target_domain',\n",
    " 'event_future1_target_domain']"
   ]
  },
  {
   "cell_type": "code",
   "execution_count": 8,
   "id": "3bbd8b59",
   "metadata": {},
   "outputs": [],
   "source": [
    "from catboost import CatBoostClassifier,Pool\n",
    "from sklearn.model_selection import KFold\n",
    "\n",
    "drops = []\n",
    "\n",
    "cat_features = [train[:1].drop(['event_group_id','is_referrer','device_id','timestamp','target_timestamp'] + drops,\n",
    "                           axis=1,errors='ignore').columns.get_loc(col) for col in cats]\n",
    "\n",
    "fi_cols = train[:1].drop(['event_group_id',\n",
    "                'is_referrer',\n",
    "                'referrer_num','device_id','timestamp','target_timestamp'] + drops,axis=1,errors='ignore').columns\n",
    "\n",
    "devices = list(train[train['is_referrer']!=2][['count_extdomain','referrer_num','is_referrer','count_device_id','timestamp','device_id']].sort_values(['count_extdomain','referrer_num','is_referrer','count_device_id','timestamp'])['device_id'].drop_duplicates().values)"
   ]
  },
  {
   "cell_type": "code",
   "execution_count": 9,
   "id": "2f571324",
   "metadata": {},
   "outputs": [
    {
     "name": "stdout",
     "output_type": "stream",
     "text": [
      "0\n",
      "20000\n",
      "180000\n",
      "0:\ttest: 0.9054546\tbest: 0.9054546 (0)\ttotal: 11.3s\tremaining: 4h 43m 13s\n",
      "50:\ttest: 0.9650715\tbest: 0.9650715 (50)\ttotal: 13m 13s\tremaining: 6h 15m 33s\n",
      "100:\ttest: 0.9707483\tbest: 0.9707483 (100)\ttotal: 28m 17s\tremaining: 6h 31m 57s\n"
     ]
    },
    {
     "ename": "KeyboardInterrupt",
     "evalue": "",
     "output_type": "error",
     "traceback": [
      "\u001b[1;31m---------------------------------------------------------------------------\u001b[0m",
      "\u001b[1;31mKeyboardInterrupt\u001b[0m                         Traceback (most recent call last)",
      "\u001b[1;32m~\\AppData\\Local\\Temp/ipykernel_11924/1250918707.py\u001b[0m in \u001b[0;36m<module>\u001b[1;34m\u001b[0m\n\u001b[0;32m     29\u001b[0m           'one_hot_max_size' : 0}\n\u001b[0;32m     30\u001b[0m     \u001b[0mmodel\u001b[0m \u001b[1;33m=\u001b[0m \u001b[0mCatBoostClassifier\u001b[0m\u001b[1;33m(\u001b[0m\u001b[1;33m**\u001b[0m\u001b[0mparams\u001b[0m\u001b[1;33m)\u001b[0m\u001b[1;33m\u001b[0m\u001b[1;33m\u001b[0m\u001b[0m\n\u001b[1;32m---> 31\u001b[1;33m     \u001b[0mmodel\u001b[0m\u001b[1;33m.\u001b[0m\u001b[0mfit\u001b[0m\u001b[1;33m(\u001b[0m\u001b[0mtrain_data\u001b[0m\u001b[1;33m,\u001b[0m\u001b[0meval_set\u001b[0m\u001b[1;33m=\u001b[0m\u001b[0mvalid_data\u001b[0m\u001b[1;33m,\u001b[0m \u001b[0muse_best_model\u001b[0m\u001b[1;33m=\u001b[0m\u001b[1;32mTrue\u001b[0m\u001b[1;33m,\u001b[0m \u001b[0mearly_stopping_rounds\u001b[0m\u001b[1;33m=\u001b[0m\u001b[1;36m100\u001b[0m\u001b[1;33m)\u001b[0m\u001b[1;33m\u001b[0m\u001b[1;33m\u001b[0m\u001b[0m\n\u001b[0m\u001b[0;32m     32\u001b[0m \u001b[1;33m\u001b[0m\u001b[0m\n\u001b[0;32m     33\u001b[0m     \u001b[1;32mif\u001b[0m \u001b[0mi\u001b[0m \u001b[1;33m==\u001b[0m \u001b[1;36m0\u001b[0m\u001b[1;33m:\u001b[0m\u001b[1;33m\u001b[0m\u001b[1;33m\u001b[0m\u001b[0m\n",
      "\u001b[1;32mC:\\ProgramData\\Anaconda3\\lib\\site-packages\\catboost\\core.py\u001b[0m in \u001b[0;36mfit\u001b[1;34m(self, X, y, cat_features, text_features, embedding_features, sample_weight, baseline, use_best_model, eval_set, verbose, logging_level, plot, column_description, verbose_eval, metric_period, silent, early_stopping_rounds, save_snapshot, snapshot_file, snapshot_interval, init_model, callbacks, log_cout, log_cerr)\u001b[0m\n\u001b[0;32m   4919\u001b[0m             \u001b[0mCatBoostClassifier\u001b[0m\u001b[1;33m.\u001b[0m\u001b[0m_check_is_compatible_loss\u001b[0m\u001b[1;33m(\u001b[0m\u001b[0mparams\u001b[0m\u001b[1;33m[\u001b[0m\u001b[1;34m'loss_function'\u001b[0m\u001b[1;33m]\u001b[0m\u001b[1;33m)\u001b[0m\u001b[1;33m\u001b[0m\u001b[1;33m\u001b[0m\u001b[0m\n\u001b[0;32m   4920\u001b[0m \u001b[1;33m\u001b[0m\u001b[0m\n\u001b[1;32m-> 4921\u001b[1;33m         self._fit(X, y, cat_features, text_features, embedding_features, None, sample_weight, None, None, None, None, baseline, use_best_model,\n\u001b[0m\u001b[0;32m   4922\u001b[0m                   \u001b[0meval_set\u001b[0m\u001b[1;33m,\u001b[0m \u001b[0mverbose\u001b[0m\u001b[1;33m,\u001b[0m \u001b[0mlogging_level\u001b[0m\u001b[1;33m,\u001b[0m \u001b[0mplot\u001b[0m\u001b[1;33m,\u001b[0m \u001b[0mcolumn_description\u001b[0m\u001b[1;33m,\u001b[0m \u001b[0mverbose_eval\u001b[0m\u001b[1;33m,\u001b[0m \u001b[0mmetric_period\u001b[0m\u001b[1;33m,\u001b[0m\u001b[1;33m\u001b[0m\u001b[1;33m\u001b[0m\u001b[0m\n\u001b[0;32m   4923\u001b[0m                   silent, early_stopping_rounds, save_snapshot, snapshot_file, snapshot_interval, init_model, callbacks, log_cout, log_cerr)\n",
      "\u001b[1;32mC:\\ProgramData\\Anaconda3\\lib\\site-packages\\catboost\\core.py\u001b[0m in \u001b[0;36m_fit\u001b[1;34m(self, X, y, cat_features, text_features, embedding_features, pairs, sample_weight, group_id, group_weight, subgroup_id, pairs_weight, baseline, use_best_model, eval_set, verbose, logging_level, plot, column_description, verbose_eval, metric_period, silent, early_stopping_rounds, save_snapshot, snapshot_file, snapshot_interval, init_model, callbacks, log_cout, log_cerr)\u001b[0m\n\u001b[0;32m   2190\u001b[0m         \u001b[1;32mwith\u001b[0m \u001b[0mlog_fixup\u001b[0m\u001b[1;33m(\u001b[0m\u001b[0mlog_cout\u001b[0m\u001b[1;33m,\u001b[0m \u001b[0mlog_cerr\u001b[0m\u001b[1;33m)\u001b[0m\u001b[1;33m,\u001b[0m\u001b[0;31m \u001b[0m\u001b[0;31m\\\u001b[0m\u001b[1;33m\u001b[0m\u001b[1;33m\u001b[0m\u001b[0m\n\u001b[0;32m   2191\u001b[0m             \u001b[0mplot_wrapper\u001b[0m\u001b[1;33m(\u001b[0m\u001b[0mplot\u001b[0m\u001b[1;33m,\u001b[0m \u001b[1;33m[\u001b[0m\u001b[0m_get_train_dir\u001b[0m\u001b[1;33m(\u001b[0m\u001b[0mself\u001b[0m\u001b[1;33m.\u001b[0m\u001b[0mget_params\u001b[0m\u001b[1;33m(\u001b[0m\u001b[1;33m)\u001b[0m\u001b[1;33m)\u001b[0m\u001b[1;33m]\u001b[0m\u001b[1;33m)\u001b[0m\u001b[1;33m:\u001b[0m\u001b[1;33m\u001b[0m\u001b[1;33m\u001b[0m\u001b[0m\n\u001b[1;32m-> 2192\u001b[1;33m             self._train(\n\u001b[0m\u001b[0;32m   2193\u001b[0m                 \u001b[0mtrain_pool\u001b[0m\u001b[1;33m,\u001b[0m\u001b[1;33m\u001b[0m\u001b[1;33m\u001b[0m\u001b[0m\n\u001b[0;32m   2194\u001b[0m                 \u001b[0mtrain_params\u001b[0m\u001b[1;33m[\u001b[0m\u001b[1;34m\"eval_sets\"\u001b[0m\u001b[1;33m]\u001b[0m\u001b[1;33m,\u001b[0m\u001b[1;33m\u001b[0m\u001b[1;33m\u001b[0m\u001b[0m\n",
      "\u001b[1;32mC:\\ProgramData\\Anaconda3\\lib\\site-packages\\catboost\\core.py\u001b[0m in \u001b[0;36m_train\u001b[1;34m(self, train_pool, test_pool, params, allow_clear_pool, init_model)\u001b[0m\n\u001b[0;32m   1617\u001b[0m \u001b[1;33m\u001b[0m\u001b[0m\n\u001b[0;32m   1618\u001b[0m     \u001b[1;32mdef\u001b[0m \u001b[0m_train\u001b[0m\u001b[1;33m(\u001b[0m\u001b[0mself\u001b[0m\u001b[1;33m,\u001b[0m \u001b[0mtrain_pool\u001b[0m\u001b[1;33m,\u001b[0m \u001b[0mtest_pool\u001b[0m\u001b[1;33m,\u001b[0m \u001b[0mparams\u001b[0m\u001b[1;33m,\u001b[0m \u001b[0mallow_clear_pool\u001b[0m\u001b[1;33m,\u001b[0m \u001b[0minit_model\u001b[0m\u001b[1;33m)\u001b[0m\u001b[1;33m:\u001b[0m\u001b[1;33m\u001b[0m\u001b[1;33m\u001b[0m\u001b[0m\n\u001b[1;32m-> 1619\u001b[1;33m         \u001b[0mself\u001b[0m\u001b[1;33m.\u001b[0m\u001b[0m_object\u001b[0m\u001b[1;33m.\u001b[0m\u001b[0m_train\u001b[0m\u001b[1;33m(\u001b[0m\u001b[0mtrain_pool\u001b[0m\u001b[1;33m,\u001b[0m \u001b[0mtest_pool\u001b[0m\u001b[1;33m,\u001b[0m \u001b[0mparams\u001b[0m\u001b[1;33m,\u001b[0m \u001b[0mallow_clear_pool\u001b[0m\u001b[1;33m,\u001b[0m \u001b[0minit_model\u001b[0m\u001b[1;33m.\u001b[0m\u001b[0m_object\u001b[0m \u001b[1;32mif\u001b[0m \u001b[0minit_model\u001b[0m \u001b[1;32melse\u001b[0m \u001b[1;32mNone\u001b[0m\u001b[1;33m)\u001b[0m\u001b[1;33m\u001b[0m\u001b[1;33m\u001b[0m\u001b[0m\n\u001b[0m\u001b[0;32m   1620\u001b[0m         \u001b[0mself\u001b[0m\u001b[1;33m.\u001b[0m\u001b[0m_set_trained_model_attributes\u001b[0m\u001b[1;33m(\u001b[0m\u001b[1;33m)\u001b[0m\u001b[1;33m\u001b[0m\u001b[1;33m\u001b[0m\u001b[0m\n\u001b[0;32m   1621\u001b[0m \u001b[1;33m\u001b[0m\u001b[0m\n",
      "\u001b[1;32m_catboost.pyx\u001b[0m in \u001b[0;36m_catboost._CatBoost._train\u001b[1;34m()\u001b[0m\n",
      "\u001b[1;32m_catboost.pyx\u001b[0m in \u001b[0;36m_catboost._CatBoost._train\u001b[1;34m()\u001b[0m\n",
      "\u001b[1;31mKeyboardInterrupt\u001b[0m: "
     ]
    }
   ],
   "source": [
    "#tpred = pd.DataFrame()\n",
    "end = 10\n",
    "for i in range(end):\n",
    "    print(i)\n",
    "    val_devices = devices[i::end].copy()\n",
    "    print(len(val_devices))\n",
    "    train_devices = list(set(devices) - set(val_devices))\n",
    "    print(len(train_devices))\n",
    "    gc.collect()\n",
    "\n",
    "    train_data = Pool(data=train[(train['device_id'].isin(train_devices))&(train['is_referrer']!=2)].drop(['is_referrer','device_id','event_group_id','timestamp','target_timestamp']+ drops,\n",
    "                                                                             axis=1,errors='ignore'),\n",
    "                      label=train.loc[(train['device_id'].isin(train_devices))&(train['is_referrer']!=2),'is_referrer'].astype(int), cat_features=cats)\n",
    "\n",
    "    valid_data = Pool(data=train[train['device_id'].isin(val_devices)].drop(['is_referrer','device_id','event_group_id','timestamp','target_timestamp'] + drops,\n",
    "                                                                              axis=1,errors='ignore'),\n",
    "                      label=train.loc[train['device_id'].isin(val_devices),'is_referrer'].astype(int),cat_features = cats)\n",
    "    gc.collect()\n",
    "    \n",
    "    params = {'max_depth':16,\n",
    "          'loss_function':'Logloss',\n",
    "          'eval_metric':'AUC',\n",
    "          'verbose': 50,\n",
    "          'random_seed': 77,\n",
    "          'learning_rate':0.04,\n",
    "          'iterations':1500,\n",
    "          'task_type':'GPU',\n",
    "          'min_data_in_leaf':128,\n",
    "          'one_hot_max_size' : 0}\n",
    "    model = CatBoostClassifier(**params)\n",
    "    model.fit(train_data,eval_set=valid_data, use_best_model=True, early_stopping_rounds=100)\n",
    "    \n",
    "    if i == 0:\n",
    "        test = train[train['is_referrer']==2][['event_group_id','referrer_num']].copy()\n",
    "        #tpred = pd.DataFrame()\n",
    "        #tpred.index = train[(train['is_referrer']!=2)].index\n",
    "        \n",
    "    test_devices = list(train.loc[train['is_referrer']==2,'device_id'].values)\n",
    "    test['pred_{}'.format(i)] = model.predict_proba(Pool(data=train[train['device_id'].isin(test_devices)].drop(['is_referrer','device_id','event_group_id','timestamp','target_timestamp'] + drops,\n",
    "                                                                              axis=1,errors='ignore'),cat_features = cats))[:, 1]\n",
    "    #tpred['pred_{}'.format(i)] = model.predict_proba(Pool(data=train[(train['is_referrer']!=2)].drop(['is_referrer','device_id','referrer_num','event_group_id','timestamp','target_timestamp']+ drops,\n",
    "    #                                                                         axis=1,errors='ignore'), cat_features=cats))[:, 1]\n",
    "    \n",
    "    test.to_pickle('new_test_{}'.format(i))\n",
    "    #tpred.to_pickle('new_tpred_{}'.format(i))\n",
    "    gc.collect()"
   ]
  },
  {
   "cell_type": "code",
   "execution_count": 5,
   "id": "1922608f",
   "metadata": {
    "scrolled": false
   },
   "outputs": [
    {
     "name": "stdout",
     "output_type": "stream",
     "text": [
      "0\n",
      "20000\n",
      "180000\n",
      "0:\ttest: 0.9058609\tbest: 0.9058609 (0)\ttotal: 11.5s\tremaining: 4h 46m 58s\n",
      "50:\ttest: 0.9649886\tbest: 0.9649886 (50)\ttotal: 13m 23s\tremaining: 6h 20m 19s\n",
      "100:\ttest: 0.9709545\tbest: 0.9709545 (100)\ttotal: 28m 22s\tremaining: 6h 32m 58s\n",
      "150:\ttest: 0.9736317\tbest: 0.9736317 (150)\ttotal: 41m 43s\tremaining: 6h 12m 48s\n",
      "200:\ttest: 0.9748549\tbest: 0.9748642 (197)\ttotal: 54m 24s\tremaining: 5h 51m 36s\n",
      "250:\ttest: 0.9758521\tbest: 0.9758521 (250)\ttotal: 1h 8m 8s\tremaining: 5h 39m 5s\n",
      "300:\ttest: 0.9766777\tbest: 0.9766777 (300)\ttotal: 1h 22m 12s\tremaining: 5h 27m 28s\n",
      "350:\ttest: 0.9772597\tbest: 0.9772597 (350)\ttotal: 1h 35m 59s\tremaining: 5h 14m 12s\n",
      "400:\ttest: 0.9776710\tbest: 0.9776772 (398)\ttotal: 1h 49m 32s\tremaining: 5h 12s\n",
      "450:\ttest: 0.9780182\tbest: 0.9780182 (450)\ttotal: 2h 3m 30s\tremaining: 4h 47m 16s\n",
      "500:\ttest: 0.9782796\tbest: 0.9782796 (500)\ttotal: 2h 17m 19s\tremaining: 4h 33m 48s\n",
      "550:\ttest: 0.9785504\tbest: 0.9785504 (550)\ttotal: 2h 31m 51s\tremaining: 4h 21m 32s\n",
      "600:\ttest: 0.9788309\tbest: 0.9788309 (600)\ttotal: 2h 45m 31s\tremaining: 4h 7m 36s\n",
      "650:\ttest: 0.9790501\tbest: 0.9790501 (650)\ttotal: 2h 59m 22s\tremaining: 3h 53m 55s\n",
      "700:\ttest: 0.9792330\tbest: 0.9792330 (700)\ttotal: 3h 13m 39s\tremaining: 3h 40m 44s\n",
      "750:\ttest: 0.9793864\tbest: 0.9793864 (750)\ttotal: 3h 27m 38s\tremaining: 3h 27m 5s\n",
      "800:\ttest: 0.9795305\tbest: 0.9795332 (798)\ttotal: 3h 41m 16s\tremaining: 3h 13m 6s\n",
      "850:\ttest: 0.9796817\tbest: 0.9796817 (850)\ttotal: 3h 55m 2s\tremaining: 2h 59m 14s\n",
      "900:\ttest: 0.9798025\tbest: 0.9798025 (900)\ttotal: 4h 8m 14s\tremaining: 2h 45m 2s\n",
      "950:\ttest: 0.9799303\tbest: 0.9799303 (950)\ttotal: 4h 22m 23s\tremaining: 2h 31m 28s\n",
      "1000:\ttest: 0.9800009\tbest: 0.9800024 (994)\ttotal: 4h 36m 4s\tremaining: 2h 17m 37s\n",
      "1050:\ttest: 0.9800774\tbest: 0.9800774 (1050)\ttotal: 4h 50m 3s\tremaining: 2h 3m 54s\n",
      "1100:\ttest: 0.9801800\tbest: 0.9801800 (1100)\ttotal: 5h 3m 38s\tremaining: 1h 50m 2s\n",
      "1150:\ttest: 0.9802494\tbest: 0.9802513 (1144)\ttotal: 5h 17m 17s\tremaining: 1h 36m 12s\n",
      "1200:\ttest: 0.9803257\tbest: 0.9803257 (1200)\ttotal: 5h 31m 6s\tremaining: 1h 22m 26s\n",
      "1250:\ttest: 0.9804046\tbest: 0.9804047 (1249)\ttotal: 5h 45m 2s\tremaining: 1h 8m 40s\n",
      "1300:\ttest: 0.9804715\tbest: 0.9804715 (1300)\ttotal: 5h 58m 47s\tremaining: 54m 52s\n",
      "1350:\ttest: 0.9805248\tbest: 0.9805248 (1350)\ttotal: 6h 12m 29s\tremaining: 41m 4s\n",
      "1400:\ttest: 0.9805930\tbest: 0.9805930 (1400)\ttotal: 6h 26m 42s\tremaining: 27m 19s\n",
      "1450:\ttest: 0.9806564\tbest: 0.9806564 (1450)\ttotal: 6h 40m 32s\tremaining: 13m 31s\n",
      "1499:\ttest: 0.9806925\tbest: 0.9806925 (1499)\ttotal: 6h 53m 48s\tremaining: 0us\n",
      "bestTest = 0.9806925058\n",
      "bestIteration = 1499\n",
      "1\n",
      "20000\n",
      "180000\n",
      "0:\ttest: 0.9088832\tbest: 0.9088832 (0)\ttotal: 11.3s\tremaining: 4h 42m 30s\n",
      "50:\ttest: 0.9657667\tbest: 0.9657667 (50)\ttotal: 13m 1s\tremaining: 6h 10m 4s\n",
      "100:\ttest: 0.9716943\tbest: 0.9716943 (100)\ttotal: 27m 44s\tremaining: 6h 24m 17s\n",
      "150:\ttest: 0.9742694\tbest: 0.9742694 (150)\ttotal: 41m 15s\tremaining: 6h 8m 32s\n",
      "200:\ttest: 0.9755460\tbest: 0.9755544 (199)\ttotal: 54m 26s\tremaining: 5h 51m 48s\n",
      "250:\ttest: 0.9766590\tbest: 0.9766590 (250)\ttotal: 1h 8m 41s\tremaining: 5h 41m 50s\n",
      "300:\ttest: 0.9772400\tbest: 0.9772400 (300)\ttotal: 1h 22m 34s\tremaining: 5h 28m 56s\n",
      "350:\ttest: 0.9775793\tbest: 0.9775864 (349)\ttotal: 1h 36m 22s\tremaining: 5h 15m 29s\n",
      "400:\ttest: 0.9780790\tbest: 0.9780790 (400)\ttotal: 1h 50m 25s\tremaining: 5h 2m 37s\n",
      "450:\ttest: 0.9784340\tbest: 0.9784340 (450)\ttotal: 2h 4m 15s\tremaining: 4h 49m 2s\n",
      "500:\ttest: 0.9787680\tbest: 0.9787680 (500)\ttotal: 2h 19m 23s\tremaining: 4h 37m 57s\n",
      "550:\ttest: 0.9790698\tbest: 0.9790698 (550)\ttotal: 2h 33m 56s\tremaining: 4h 25m 8s\n",
      "600:\ttest: 0.9792685\tbest: 0.9792809 (597)\ttotal: 2h 47m 47s\tremaining: 4h 10m 59s\n",
      "650:\ttest: 0.9794055\tbest: 0.9794055 (650)\ttotal: 3h 2m 13s\tremaining: 3h 57m 39s\n",
      "700:\ttest: 0.9796137\tbest: 0.9796137 (700)\ttotal: 3h 16m 40s\tremaining: 3h 44m 9s\n",
      "750:\ttest: 0.9797560\tbest: 0.9797560 (750)\ttotal: 3h 31m\tremaining: 3h 30m 26s\n",
      "800:\ttest: 0.9799253\tbest: 0.9799253 (800)\ttotal: 3h 45m 17s\tremaining: 3h 16m 36s\n",
      "850:\ttest: 0.9800449\tbest: 0.9800449 (850)\ttotal: 3h 59m 20s\tremaining: 3h 2m 31s\n",
      "900:\ttest: 0.9801646\tbest: 0.9801675 (895)\ttotal: 4h 13m 28s\tremaining: 2h 48m 30s\n",
      "950:\ttest: 0.9802734\tbest: 0.9802734 (950)\ttotal: 4h 27m\tremaining: 2h 34m 8s\n",
      "1000:\ttest: 0.9803826\tbest: 0.9803826 (1000)\ttotal: 4h 41m 40s\tremaining: 2h 20m 24s\n",
      "1050:\ttest: 0.9804577\tbest: 0.9804577 (1050)\ttotal: 4h 55m 38s\tremaining: 2h 6m 17s\n",
      "1100:\ttest: 0.9805321\tbest: 0.9805338 (1097)\ttotal: 5h 9m 33s\tremaining: 1h 52m 11s\n",
      "1150:\ttest: 0.9805911\tbest: 0.9805911 (1150)\ttotal: 5h 23m 18s\tremaining: 1h 38m 1s\n",
      "1200:\ttest: 0.9806653\tbest: 0.9806653 (1200)\ttotal: 5h 37m 26s\tremaining: 1h 24m\n",
      "1250:\ttest: 0.9807208\tbest: 0.9807208 (1250)\ttotal: 5h 51m 9s\tremaining: 1h 9m 53s\n",
      "1300:\ttest: 0.9807785\tbest: 0.9807785 (1300)\ttotal: 6h 4m 43s\tremaining: 55m 47s\n",
      "1350:\ttest: 0.9808363\tbest: 0.9808363 (1350)\ttotal: 6h 17m 56s\tremaining: 41m 41s\n",
      "1400:\ttest: 0.9808832\tbest: 0.9808832 (1400)\ttotal: 6h 32m 2s\tremaining: 27m 42s\n",
      "1450:\ttest: 0.9809130\tbest: 0.9809130 (1450)\ttotal: 6h 45m 52s\tremaining: 13m 42s\n",
      "1499:\ttest: 0.9809536\tbest: 0.9809536 (1499)\ttotal: 6h 59m 29s\tremaining: 0us\n",
      "bestTest = 0.9809536338\n",
      "bestIteration = 1499\n",
      "2\n",
      "20000\n",
      "180000\n",
      "0:\ttest: 0.9073018\tbest: 0.9073018 (0)\ttotal: 11.3s\tremaining: 4h 42m 2s\n"
     ]
    },
    {
     "ename": "KeyboardInterrupt",
     "evalue": "",
     "output_type": "error",
     "traceback": [
      "\u001b[1;31m---------------------------------------------------------------------------\u001b[0m",
      "\u001b[1;31mKeyboardInterrupt\u001b[0m                         Traceback (most recent call last)",
      "\u001b[1;32m~\\AppData\\Local\\Temp/ipykernel_11924/2013664120.py\u001b[0m in \u001b[0;36m<module>\u001b[1;34m\u001b[0m\n\u001b[0;32m     29\u001b[0m           'one_hot_max_size' : 0}\n\u001b[0;32m     30\u001b[0m     \u001b[0mmodel\u001b[0m \u001b[1;33m=\u001b[0m \u001b[0mCatBoostClassifier\u001b[0m\u001b[1;33m(\u001b[0m\u001b[1;33m**\u001b[0m\u001b[0mparams\u001b[0m\u001b[1;33m)\u001b[0m\u001b[1;33m\u001b[0m\u001b[1;33m\u001b[0m\u001b[0m\n\u001b[1;32m---> 31\u001b[1;33m     \u001b[0mmodel\u001b[0m\u001b[1;33m.\u001b[0m\u001b[0mfit\u001b[0m\u001b[1;33m(\u001b[0m\u001b[0mtrain_data\u001b[0m\u001b[1;33m,\u001b[0m\u001b[0meval_set\u001b[0m\u001b[1;33m=\u001b[0m\u001b[0mvalid_data\u001b[0m\u001b[1;33m,\u001b[0m \u001b[0muse_best_model\u001b[0m\u001b[1;33m=\u001b[0m\u001b[1;32mTrue\u001b[0m\u001b[1;33m,\u001b[0m \u001b[0mearly_stopping_rounds\u001b[0m\u001b[1;33m=\u001b[0m\u001b[1;36m100\u001b[0m\u001b[1;33m)\u001b[0m\u001b[1;33m\u001b[0m\u001b[1;33m\u001b[0m\u001b[0m\n\u001b[0m\u001b[0;32m     32\u001b[0m \u001b[1;33m\u001b[0m\u001b[0m\n\u001b[0;32m     33\u001b[0m     \u001b[1;32mif\u001b[0m \u001b[0mi\u001b[0m \u001b[1;33m==\u001b[0m \u001b[1;36m0\u001b[0m\u001b[1;33m:\u001b[0m\u001b[1;33m\u001b[0m\u001b[1;33m\u001b[0m\u001b[0m\n",
      "\u001b[1;32mC:\\ProgramData\\Anaconda3\\lib\\site-packages\\catboost\\core.py\u001b[0m in \u001b[0;36mfit\u001b[1;34m(self, X, y, cat_features, text_features, embedding_features, sample_weight, baseline, use_best_model, eval_set, verbose, logging_level, plot, column_description, verbose_eval, metric_period, silent, early_stopping_rounds, save_snapshot, snapshot_file, snapshot_interval, init_model, callbacks, log_cout, log_cerr)\u001b[0m\n\u001b[0;32m   4919\u001b[0m             \u001b[0mCatBoostClassifier\u001b[0m\u001b[1;33m.\u001b[0m\u001b[0m_check_is_compatible_loss\u001b[0m\u001b[1;33m(\u001b[0m\u001b[0mparams\u001b[0m\u001b[1;33m[\u001b[0m\u001b[1;34m'loss_function'\u001b[0m\u001b[1;33m]\u001b[0m\u001b[1;33m)\u001b[0m\u001b[1;33m\u001b[0m\u001b[1;33m\u001b[0m\u001b[0m\n\u001b[0;32m   4920\u001b[0m \u001b[1;33m\u001b[0m\u001b[0m\n\u001b[1;32m-> 4921\u001b[1;33m         self._fit(X, y, cat_features, text_features, embedding_features, None, sample_weight, None, None, None, None, baseline, use_best_model,\n\u001b[0m\u001b[0;32m   4922\u001b[0m                   \u001b[0meval_set\u001b[0m\u001b[1;33m,\u001b[0m \u001b[0mverbose\u001b[0m\u001b[1;33m,\u001b[0m \u001b[0mlogging_level\u001b[0m\u001b[1;33m,\u001b[0m \u001b[0mplot\u001b[0m\u001b[1;33m,\u001b[0m \u001b[0mcolumn_description\u001b[0m\u001b[1;33m,\u001b[0m \u001b[0mverbose_eval\u001b[0m\u001b[1;33m,\u001b[0m \u001b[0mmetric_period\u001b[0m\u001b[1;33m,\u001b[0m\u001b[1;33m\u001b[0m\u001b[1;33m\u001b[0m\u001b[0m\n\u001b[0;32m   4923\u001b[0m                   silent, early_stopping_rounds, save_snapshot, snapshot_file, snapshot_interval, init_model, callbacks, log_cout, log_cerr)\n",
      "\u001b[1;32mC:\\ProgramData\\Anaconda3\\lib\\site-packages\\catboost\\core.py\u001b[0m in \u001b[0;36m_fit\u001b[1;34m(self, X, y, cat_features, text_features, embedding_features, pairs, sample_weight, group_id, group_weight, subgroup_id, pairs_weight, baseline, use_best_model, eval_set, verbose, logging_level, plot, column_description, verbose_eval, metric_period, silent, early_stopping_rounds, save_snapshot, snapshot_file, snapshot_interval, init_model, callbacks, log_cout, log_cerr)\u001b[0m\n\u001b[0;32m   2190\u001b[0m         \u001b[1;32mwith\u001b[0m \u001b[0mlog_fixup\u001b[0m\u001b[1;33m(\u001b[0m\u001b[0mlog_cout\u001b[0m\u001b[1;33m,\u001b[0m \u001b[0mlog_cerr\u001b[0m\u001b[1;33m)\u001b[0m\u001b[1;33m,\u001b[0m\u001b[0;31m \u001b[0m\u001b[0;31m\\\u001b[0m\u001b[1;33m\u001b[0m\u001b[1;33m\u001b[0m\u001b[0m\n\u001b[0;32m   2191\u001b[0m             \u001b[0mplot_wrapper\u001b[0m\u001b[1;33m(\u001b[0m\u001b[0mplot\u001b[0m\u001b[1;33m,\u001b[0m \u001b[1;33m[\u001b[0m\u001b[0m_get_train_dir\u001b[0m\u001b[1;33m(\u001b[0m\u001b[0mself\u001b[0m\u001b[1;33m.\u001b[0m\u001b[0mget_params\u001b[0m\u001b[1;33m(\u001b[0m\u001b[1;33m)\u001b[0m\u001b[1;33m)\u001b[0m\u001b[1;33m]\u001b[0m\u001b[1;33m)\u001b[0m\u001b[1;33m:\u001b[0m\u001b[1;33m\u001b[0m\u001b[1;33m\u001b[0m\u001b[0m\n\u001b[1;32m-> 2192\u001b[1;33m             self._train(\n\u001b[0m\u001b[0;32m   2193\u001b[0m                 \u001b[0mtrain_pool\u001b[0m\u001b[1;33m,\u001b[0m\u001b[1;33m\u001b[0m\u001b[1;33m\u001b[0m\u001b[0m\n\u001b[0;32m   2194\u001b[0m                 \u001b[0mtrain_params\u001b[0m\u001b[1;33m[\u001b[0m\u001b[1;34m\"eval_sets\"\u001b[0m\u001b[1;33m]\u001b[0m\u001b[1;33m,\u001b[0m\u001b[1;33m\u001b[0m\u001b[1;33m\u001b[0m\u001b[0m\n",
      "\u001b[1;32mC:\\ProgramData\\Anaconda3\\lib\\site-packages\\catboost\\core.py\u001b[0m in \u001b[0;36m_train\u001b[1;34m(self, train_pool, test_pool, params, allow_clear_pool, init_model)\u001b[0m\n\u001b[0;32m   1617\u001b[0m \u001b[1;33m\u001b[0m\u001b[0m\n\u001b[0;32m   1618\u001b[0m     \u001b[1;32mdef\u001b[0m \u001b[0m_train\u001b[0m\u001b[1;33m(\u001b[0m\u001b[0mself\u001b[0m\u001b[1;33m,\u001b[0m \u001b[0mtrain_pool\u001b[0m\u001b[1;33m,\u001b[0m \u001b[0mtest_pool\u001b[0m\u001b[1;33m,\u001b[0m \u001b[0mparams\u001b[0m\u001b[1;33m,\u001b[0m \u001b[0mallow_clear_pool\u001b[0m\u001b[1;33m,\u001b[0m \u001b[0minit_model\u001b[0m\u001b[1;33m)\u001b[0m\u001b[1;33m:\u001b[0m\u001b[1;33m\u001b[0m\u001b[1;33m\u001b[0m\u001b[0m\n\u001b[1;32m-> 1619\u001b[1;33m         \u001b[0mself\u001b[0m\u001b[1;33m.\u001b[0m\u001b[0m_object\u001b[0m\u001b[1;33m.\u001b[0m\u001b[0m_train\u001b[0m\u001b[1;33m(\u001b[0m\u001b[0mtrain_pool\u001b[0m\u001b[1;33m,\u001b[0m \u001b[0mtest_pool\u001b[0m\u001b[1;33m,\u001b[0m \u001b[0mparams\u001b[0m\u001b[1;33m,\u001b[0m \u001b[0mallow_clear_pool\u001b[0m\u001b[1;33m,\u001b[0m \u001b[0minit_model\u001b[0m\u001b[1;33m.\u001b[0m\u001b[0m_object\u001b[0m \u001b[1;32mif\u001b[0m \u001b[0minit_model\u001b[0m \u001b[1;32melse\u001b[0m \u001b[1;32mNone\u001b[0m\u001b[1;33m)\u001b[0m\u001b[1;33m\u001b[0m\u001b[1;33m\u001b[0m\u001b[0m\n\u001b[0m\u001b[0;32m   1620\u001b[0m         \u001b[0mself\u001b[0m\u001b[1;33m.\u001b[0m\u001b[0m_set_trained_model_attributes\u001b[0m\u001b[1;33m(\u001b[0m\u001b[1;33m)\u001b[0m\u001b[1;33m\u001b[0m\u001b[1;33m\u001b[0m\u001b[0m\n\u001b[0;32m   1621\u001b[0m \u001b[1;33m\u001b[0m\u001b[0m\n",
      "\u001b[1;32m_catboost.pyx\u001b[0m in \u001b[0;36m_catboost._CatBoost._train\u001b[1;34m()\u001b[0m\n",
      "\u001b[1;32m_catboost.pyx\u001b[0m in \u001b[0;36m_catboost._CatBoost._train\u001b[1;34m()\u001b[0m\n",
      "\u001b[1;31mKeyboardInterrupt\u001b[0m: "
     ]
    }
   ],
   "source": [
    "#tpred = pd.DataFrame()\n",
    "end = 10\n",
    "for i in range(end):\n",
    "    print(i)\n",
    "    val_devices = devices[i::end].copy()\n",
    "    print(len(val_devices))\n",
    "    train_devices = list(set(devices) - set(val_devices))\n",
    "    print(len(train_devices))\n",
    "    gc.collect()\n",
    "\n",
    "    train_data = Pool(data=train[(train['device_id'].isin(train_devices))&(train['is_referrer']!=2)].drop(['is_referrer','device_id','referrer_num','event_group_id','timestamp','target_timestamp']+ drops,\n",
    "                                                                             axis=1,errors='ignore'),\n",
    "                      label=train.loc[(train['device_id'].isin(train_devices))&(train['is_referrer']!=2),'is_referrer'].astype(int), cat_features=cats)\n",
    "\n",
    "    valid_data = Pool(data=train[train['device_id'].isin(val_devices)].drop(['is_referrer','device_id','referrer_num','event_group_id','timestamp','target_timestamp'] + drops,\n",
    "                                                                              axis=1,errors='ignore'),\n",
    "                      label=train.loc[train['device_id'].isin(val_devices),'is_referrer'].astype(int),cat_features = cats)\n",
    "    gc.collect()\n",
    "    \n",
    "    params = {'max_depth':16,\n",
    "          'loss_function':'Logloss',\n",
    "          'eval_metric':'AUC',\n",
    "          'verbose': 50,\n",
    "          'random_seed': 77,\n",
    "          'learning_rate':0.04,\n",
    "          'iterations':1500,\n",
    "          'task_type':'GPU',\n",
    "          'min_data_in_leaf':128,\n",
    "          'one_hot_max_size' : 0}\n",
    "    model = CatBoostClassifier(**params)\n",
    "    model.fit(train_data,eval_set=valid_data, use_best_model=True, early_stopping_rounds=100)\n",
    "    \n",
    "    if i == 0:\n",
    "        test = train[train['is_referrer']==2][['event_group_id','referrer_num']].copy()\n",
    "        #tpred = pd.DataFrame()\n",
    "        #tpred.index = train[(train['is_referrer']!=2)].index\n",
    "        \n",
    "    test_devices = list(train.loc[train['is_referrer']==2,'device_id'].values)\n",
    "    test['pred_{}'.format(i)] = model.predict_proba(Pool(data=train[train['device_id'].isin(test_devices)].drop(['is_referrer','device_id','referrer_num','event_group_id','timestamp','target_timestamp'] + drops,\n",
    "                                                                              axis=1,errors='ignore'),cat_features = cats))[:, 1]\n",
    "    #tpred['pred_{}'.format(i)] = model.predict_proba(Pool(data=train[(train['is_referrer']!=2)].drop(['is_referrer','device_id','referrer_num','event_group_id','timestamp','target_timestamp']+ drops,\n",
    "    #                                                                         axis=1,errors='ignore'), cat_features=cats))[:, 1]\n",
    "    \n",
    "    test.to_pickle('new_test_{}'.format(i))\n",
    "    #tpred.to_pickle('new_tpred_{}'.format(i))\n",
    "    gc.collect()"
   ]
  },
  {
   "cell_type": "code",
   "execution_count": null,
   "id": "287de66b",
   "metadata": {
    "scrolled": false
   },
   "outputs": [],
   "source": [
    "#0"
   ]
  },
  {
   "cell_type": "code",
   "execution_count": null,
   "id": "72f0c9ec",
   "metadata": {},
   "outputs": [],
   "source": [
    "test"
   ]
  },
  {
   "cell_type": "code",
   "execution_count": null,
   "id": "537fba25",
   "metadata": {},
   "outputs": [],
   "source": []
  },
  {
   "cell_type": "code",
   "execution_count": null,
   "id": "58948ec3",
   "metadata": {},
   "outputs": [],
   "source": []
  },
  {
   "cell_type": "code",
   "execution_count": null,
   "id": "3d8c2dc5",
   "metadata": {},
   "outputs": [],
   "source": [
    "\n",
    "fi = pd.DataFrame({'feature_importance': model.get_feature_importance(train_data),\n",
    "              'feature_names': fi_cols}).sort_values(by=['feature_importance'], ascending=False)"
   ]
  },
  {
   "cell_type": "code",
   "execution_count": null,
   "id": "bacc5f6e",
   "metadata": {
    "scrolled": false
   },
   "outputs": [],
   "source": [
    "fi"
   ]
  },
  {
   "cell_type": "code",
   "execution_count": null,
   "id": "4eaba473",
   "metadata": {
    "scrolled": true
   },
   "outputs": [],
   "source": [
    "fi[fi['feature_importance']==0].shape"
   ]
  },
  {
   "cell_type": "code",
   "execution_count": null,
   "id": "67d7b7dc",
   "metadata": {},
   "outputs": [],
   "source": [
    "train = train.drop(['past2_after_slash_2','past1_after_slash_3','slash4','target_l4_domain','l4_domain'],axis=1)"
   ]
  },
  {
   "cell_type": "code",
   "execution_count": null,
   "id": "9c7daeff",
   "metadata": {},
   "outputs": [],
   "source": []
  },
  {
   "cell_type": "code",
   "execution_count": null,
   "id": "10f60015",
   "metadata": {},
   "outputs": [],
   "source": []
  },
  {
   "cell_type": "code",
   "execution_count": null,
   "id": "8dad25ce",
   "metadata": {},
   "outputs": [],
   "source": [
    "test = train[train['is_referrer']==2][['event_group_id','referrer_num']].copy()\n",
    "test_devices = list(train.loc[train['is_referrer']==2,'device_id'].values)\n",
    "\n",
    "test['pred'] = model.predict_proba(Pool(data=train[train['device_id'].isin(test_devices)].drop(['is_referrer','device_id','referrer_num','event_group_id','timestamp','target_timestamp'],\n",
    "                                                                          axis=1,errors='ignore'),cat_features = cats,text_features=text))[:, 1]\n",
    "\n"
   ]
  },
  {
   "cell_type": "code",
   "execution_count": null,
   "id": "ef48c3cb",
   "metadata": {},
   "outputs": [],
   "source": [
    "test"
   ]
  },
  {
   "cell_type": "code",
   "execution_count": null,
   "id": "40a0aa7b",
   "metadata": {},
   "outputs": [],
   "source": [
    "test.sort_values('pred',ascending=False,inplace=True)\n",
    "test = test.drop_duplicates(['event_group_id'],keep='first')"
   ]
  },
  {
   "cell_type": "code",
   "execution_count": null,
   "id": "80dfa6f3",
   "metadata": {},
   "outputs": [],
   "source": [
    "id_map = pd.read_pickle('id_map')\n",
    "to_original_event_group_id = dict(zip(id_map['eve'],id_map['event_group_id']))\n",
    "to_eve = dict(zip(id_map['event_group_id'],id_map['eve']))\n",
    "\n",
    "test['event_group_id'] = test['event_group_id'].map(to_original_event_group_id)\n",
    "test = test.sort_values('event_group_id')\n",
    "test[['event_group_id','referrer_num']].to_csv('cb_exp_07.06.2022_2.csv',index=False)"
   ]
  },
  {
   "cell_type": "code",
   "execution_count": null,
   "id": "a2fbea2e",
   "metadata": {},
   "outputs": [],
   "source": [
    "test"
   ]
  },
  {
   "cell_type": "code",
   "execution_count": null,
   "id": "af6bfd20",
   "metadata": {},
   "outputs": [],
   "source": []
  },
  {
   "cell_type": "code",
   "execution_count": null,
   "id": "67f1a071",
   "metadata": {},
   "outputs": [],
   "source": []
  },
  {
   "cell_type": "code",
   "execution_count": null,
   "id": "027f4939",
   "metadata": {},
   "outputs": [],
   "source": []
  },
  {
   "cell_type": "code",
   "execution_count": null,
   "id": "a6d3028a",
   "metadata": {},
   "outputs": [],
   "source": []
  },
  {
   "cell_type": "code",
   "execution_count": null,
   "id": "b7944cfe",
   "metadata": {},
   "outputs": [],
   "source": [
    "model = CatBoostClassifier(**params)\n",
    "model.fit(valid_data,eval_set=train_data, use_best_model=True, early_stopping_rounds=200)"
   ]
  },
  {
   "cell_type": "raw",
   "id": "e1ede9b0",
   "metadata": {},
   "source": [
    "1\n",
    "0:\ttest: 0.8890502\tbest: 0.8890502 (0)\ttotal: 799ms\tremaining: 13m 17s\n",
    "50:\ttest: 0.9475772\tbest: 0.9475772 (50)\ttotal: 36s\tremaining: 11m 10s\n",
    "100:\ttest: 0.9559941\tbest: 0.9559941 (100)\ttotal: 1m 20s\tremaining: 11m 52s\n",
    "150:\ttest: 0.9584514\tbest: 0.9584514 (150)\ttotal: 2m\tremaining: 11m 19s\n",
    "200:\ttest: 0.9597435\tbest: 0.9597435 (200)\ttotal: 2m 36s\tremaining: 10m 22s\n",
    "250:\ttest: 0.9608479\tbest: 0.9608479 (250)\ttotal: 3m 2s\tremaining: 9m 4s\n",
    "300:\ttest: 0.9617729\tbest: 0.9617729 (300)\ttotal: 3m 26s\tremaining: 7m 59s\n",
    "350:\ttest: 0.9621806\tbest: 0.9621806 (350)\ttotal: 3m 48s\tremaining: 7m 2s\n",
    "400:\ttest: 0.9621809\tbest: 0.9622057 (353)\ttotal: 4m 6s\tremaining: 6m 8s\n",
    "450:\ttest: 0.9626604\tbest: 0.9626604 (450)\ttotal: 4m 24s\tremaining: 5m 21s\n",
    "500:\ttest: 0.9627473\tbest: 0.9627626 (485)\ttotal: 4m 40s\tremaining: 4m 39s\n",
    "550:\ttest: 0.9628260\tbest: 0.9628260 (550)\ttotal: 4m 58s\tremaining: 4m 2s\n",
    "600:\ttest: 0.9629369\tbest: 0.9629369 (600)\ttotal: 5m 12s\tremaining: 3m 27s\n",
    "650:\ttest: 0.9631131\tbest: 0.9631402 (649)\ttotal: 5m 28s\tremaining: 2m 56s\n",
    "700:\ttest: 0.9633287\tbest: 0.9633287 (700)\ttotal: 5m 43s\tremaining: 2m 26s\n",
    "750:\ttest: 0.9634722\tbest: 0.9634722 (750)\ttotal: 5m 57s\tremaining: 1m 58s\n",
    "800:\ttest: 0.9636677\tbest: 0.9636949 (797)\ttotal: 6m 14s\tremaining: 1m 33s\n",
    "850:\ttest: 0.9637703\tbest: 0.9637703 (850)\ttotal: 6m 28s\tremaining: 1m 8s\n",
    "900:\ttest: 0.9634752\tbest: 0.9638170 (871)\ttotal: 6m 44s\tremaining: 44.5s\n",
    "950:\ttest: 0.9635893\tbest: 0.9638170 (871)\ttotal: 6m 58s\tremaining: 21.5s\n",
    "999:\ttest: 0.9636475\tbest: 0.9638170 (871)\ttotal: 7m 10s\tremaining: 0us"
   ]
  },
  {
   "cell_type": "code",
   "execution_count": null,
   "id": "0c8e40af",
   "metadata": {},
   "outputs": [],
   "source": [
    "fi2 = pd.DataFrame({'feature_importance': model.get_feature_importance(valid_data),\n",
    "              'feature_names': fi_cols}).sort_values(by=['feature_importance'], ascending=False)"
   ]
  },
  {
   "cell_type": "code",
   "execution_count": null,
   "id": "60650b17",
   "metadata": {},
   "outputs": [],
   "source": [
    "fi2"
   ]
  },
  {
   "cell_type": "code",
   "execution_count": null,
   "id": "f6f4c2eb",
   "metadata": {},
   "outputs": [],
   "source": []
  },
  {
   "cell_type": "code",
   "execution_count": null,
   "id": "a9e3856a",
   "metadata": {
    "scrolled": true
   },
   "outputs": [],
   "source": [
    "train = train.drop(list(fi.loc[fi['feature_importance']<0.001,'feature_names'].values),axis=1)"
   ]
  },
  {
   "cell_type": "code",
   "execution_count": null,
   "id": "40a9e016",
   "metadata": {},
   "outputs": [],
   "source": [
    "train.info()"
   ]
  },
  {
   "cell_type": "code",
   "execution_count": null,
   "id": "fa3f18c3",
   "metadata": {},
   "outputs": [],
   "source": []
  },
  {
   "cell_type": "code",
   "execution_count": null,
   "id": "ef97217f",
   "metadata": {},
   "outputs": [],
   "source": []
  },
  {
   "cell_type": "code",
   "execution_count": null,
   "id": "ecd7c6de",
   "metadata": {},
   "outputs": [],
   "source": [
    "%%time\n",
    "train = pd.read_csv('semrush_cup_train_data.csv')\n",
    "val = pd.read_csv('semrush_cup_test_data.csv')\n",
    "train['is_referrer'] = train['is_referrer'].astype(int)\n",
    "val['is_referrer'] = 2\n",
    "train = pd.concat([train,val]).reset_index(drop=True)\n",
    "train.loc[train['domain'].isna(),'domain'] = train.loc[train['domain'].isna(),'url'].str.split('/').str[0]\n",
    "\n",
    "train = train.sort_values(['timestamp']).reset_index(drop=True)\n",
    "eve = train.sort_values(['timestamp'])[['event_group_id']].drop_duplicates(keep='first').reset_index(drop=True).reset_index()\n",
    "eve.columns = ['eve','event_group_id']\n",
    "dev = train.sort_values(['timestamp'])[['device_id']].drop_duplicates(keep='first').reset_index(drop=True).reset_index()\n",
    "dev.columns = ['dev','device_id']\n",
    "train = train.merge(eve,on='event_group_id',how='left')\n",
    "train = train.merge(dev,on='device_id',how='left')\n",
    "\n",
    "train = train.sort_values(['event_group_id','referrer_num']).reset_index(drop=True)\n",
    "train['event_group_id'] = train['eve']\n",
    "train['device_id'] = train['dev']\n",
    "del train['eve'], train['dev'], eve, dev\n",
    "train = train.sort_values('timestamp').reset_index(drop=True)\n",
    "gc.collect()"
   ]
  },
  {
   "cell_type": "code",
   "execution_count": null,
   "id": "cdeb1065",
   "metadata": {},
   "outputs": [],
   "source": [
    "train['extdomain'] = train['url'].swifter.apply(lambda x: x.split('/')[0])\n",
    "train['after_slash_full'] = train['url'].swifter.apply(lambda x: '/'.join(x.split('/')[1:]))\n",
    "train['ext1'] = train.swifter.apply(lambda row : row['extdomain'].replace(str(row['domain']), ''), axis=1)\n",
    "train['1extdomain'] =  train['extdomain'].swifter.apply(lambda x: x.split('.')[-2] + '.' + x.split('.')[-1])\n",
    "train['ext'] = train.swifter.apply(lambda row : row['extdomain'].replace(str(row['1extdomain']), ''), axis=1)\n",
    "train['ext2'] = train.swifter.apply(lambda row : row['ext'].replace(str(row['ext1']), ''), axis=1)\n",
    "train['slash_1'] = train['after_slash_full'].swifter.apply(lambda x: x.split('/')[0])\n",
    "train['1extdomain'] =  train['extdomain'].swifter.apply(lambda x: x.split('.')[-2] + '.' + x.split('.')[-1])\n",
    "train['zone'] = train['extdomain'].swifter.apply(lambda x: x.split('.')[-1])\n",
    "#zone share\n",
    "#'1extdomain' share"
   ]
  },
  {
   "cell_type": "code",
   "execution_count": null,
   "id": "b59789a4",
   "metadata": {},
   "outputs": [],
   "source": [
    "%%time\n",
    "for col in ['extdomain','1extdomain','after_slash_full','ext1','ext2','slash_1','zone']:\n",
    "    print(col)\n",
    "    train = train.merge(train[train['referrer_num']=='target'][['event_group_id',col]].rename(columns={col:'target_temp'}),\n",
    "                        on = 'event_group_id', how = 'left')\n",
    "    print('0')\n",
    "    for p in range(1,4):\n",
    "        temp = train[train['referrer_num']=='target'].sort_values(['timestamp'])[['event_group_id','device_id',col]]\n",
    "        temp['eve_past_tar_{}_{}'.format(col,p)] = temp.groupby(['device_id'])[col].shift(p).values\n",
    "        temp.columns = ['event_group_id','device_id',col,'eve_past_tar_{}_{}'.format(col,p)]\n",
    "        train = train.merge(temp[['event_group_id','eve_past_tar_{}_{}'.format(col,p)]],\n",
    "                            on='event_group_id',\n",
    "                            how='left')\n",
    "        train['eve_past_tar_even_how_current_{}_{}'.format(col,p)] = 0\n",
    "        train.loc[train['target_temp'] == train['eve_past_tar_{}_{}'.format(col,p)],'eve_past_tar_even_how_current_{}_{}'.format(col,p)] = 1\n",
    "    print('future')      \n",
    "    for t in range(-4,0):\n",
    "        temp = train[train['referrer_num']=='target'].sort_values(['timestamp'])[['event_group_id','device_id',col]]\n",
    "        temp['eve_future_tar_{}_{}'.format(col,t)] = temp.groupby(['device_id'])[col].shift(t).values\n",
    "        temp.columns = ['event_group_id','device_id',col,'eve_future_tar_{}_{}'.format(col,t)]\n",
    "        train = train.merge(temp[['event_group_id','eve_future_tar_{}_{}'.format(col,t)]],on='event_group_id',how='left')\n",
    "        train['eve_future_tar_even_how_current_{}_{}'.format(col,t)] = 0\n",
    "        train.loc[train['target_temp'] == train['eve_future_tar_{}_{}'.format(col,t)],'eve_future_tar_even_how_current_{}_{}'.format(col,t)] = 1\n",
    "    \n",
    "    del train['target_temp']\n",
    "    gc.collect()"
   ]
  },
  {
   "cell_type": "code",
   "execution_count": null,
   "id": "053de4b3",
   "metadata": {},
   "outputs": [],
   "source": [
    "%%time\n",
    "past_cols = ['extdomain','1extdomain','after_slash_full','ext1','ext2','slash_1','zone']\n",
    "\n",
    "past_for_target = []\n",
    "\n",
    "for col in past_cols:\n",
    "    print(col)\n",
    "    \n",
    "    train = train.merge(train[train['referrer_num']=='target'][['event_group_id',col]].rename(columns={col:'target_temp'}),\n",
    "                        on = 'event_group_id', how = 'left')\n",
    "\n",
    "    for r in range(1,4):\n",
    "        \n",
    "        train['past{}_{}'.format(r,col)] = train[['event_group_id',col]].groupby(['event_group_id'])[col].shift(r)\n",
    "        train['past_{}_how_current_{}'.format(r,col)] = 0\n",
    "        train.loc[train['target_temp'] == train['past{}_{}'.format(r,col)],'past_{}_how_current_{}'.format(r,col)] = 1\n",
    "\n",
    "        train['past{}_{}'.format(r,col)] = train['past{}_{}'.format(r,col)].factorize()[0]+2\n",
    "        train['past{}_{}'.format(r,col)] = train['past{}_{}'.format(r,col)].factorize()[0]+1\n",
    "        \n",
    "        past_for_target = past_for_target + ['past_{}_how_current_{}'.format(r,col)]\n",
    "        \n",
    "        train['future{}_{}'.format(0-r,col)] = train[['event_group_id',col]].groupby(['event_group_id'])[col].shift(0-r)\n",
    "        train['future_{}_how_current_{}'.format(0-r,col)] = 0\n",
    "        train.loc[train['target_temp'] == train['future{}_{}'.format(0-r,col)],'future_{}_how_current_{}'.format(0-r,col)] = 1        \n",
    "        \n",
    "        past_for_target = past_for_target + ['future_{}_how_current_{}'.format(0-r,col)]\n",
    "        \n",
    "        \"\"\"\n",
    "        train['future{}_{}'.format(0-r,col)] = train['future{}_{}'.format(0-r,col)].factorize()[0]+2\n",
    "        train['future{}_{}'.format(0-r,col)] = train['future{}_{}'.format(0-r,col)].factorize()[0]+1\n",
    "        \n",
    "        for column in [ 'past{}_{}'.format(r,col),\n",
    "                        'past_{}_how_current_{}'.format(r,col),\n",
    "                        'future{}_{}'.format(0-r,col),\n",
    "                        'future_{}_how_current_{}'.format(0-r,col)]:\n",
    "            \n",
    "            c_min = train[column].min()\n",
    "            c_max = train[column].max()\n",
    "\n",
    "            if str(train[column].dtype)[:3] == 'int':\n",
    "                if c_min > np.iinfo(np.int8).min and c_max < np.iinfo(np.int8).max:\n",
    "                    train[column] = train[column].astype(np.int8)\n",
    "                elif c_min > np.iinfo(np.int16).min and c_max < np.iinfo(np.int16).max:\n",
    "                    train[column] = train[column].astype(np.int16)\n",
    "                elif c_min > np.iinfo(np.int32).min and c_max < np.iinfo(np.int32).max:\n",
    "                    train[column] = train[column].astype(np.int32)\n",
    "                elif c_min > np.iinfo(np.int64).min and c_max < np.iinfo(np.int64).max:\n",
    "                    train[column] = train[column].astype(np.int64)  \n",
    "            else:\n",
    "                if c_min > np.finfo(np.float16).min and c_max < np.finfo(np.float16).max:\n",
    "                    train[column] = train[column].astype(np.float16)\n",
    "                elif c_min > np.finfo(np.float32).min and c_max < np.finfo(np.float32).max:\n",
    "                    train[column] = train[column].astype(np.float32)\n",
    "                else:\n",
    "                    train[column] = train[column].astype(np.float64)\"\"\"\n",
    "\n",
    "        \n",
    "    del train['target_temp']"
   ]
  },
  {
   "cell_type": "code",
   "execution_count": null,
   "id": "13ede95e",
   "metadata": {},
   "outputs": [],
   "source": [
    "%%time\n",
    "cats = pd.read_pickle('cats_full')\n",
    "cats = cats[['domain',\n",
    " 'category_1',\n",
    " 'category_2',\n",
    " 'cat_main_domain_18-24_mean',\n",
    " 'cat12_cnt',\n",
    " 'cat_main_domain_55-64_min',\n",
    " 'cat_main_domain_M_mean',\n",
    " 'cat_main_domain_55-64_mean',\n",
    " 'cat12md_cnt',\n",
    " 'cat_main_domain_35-44_mean',\n",
    " 'cat_main_domain_65+_mean',\n",
    " 'cat_main_domain_25-34_std',\n",
    " 'cat_main_domain_65+_max',\n",
    " 'cats_1_35-44_max',\n",
    " 'cats_1_zoner4_F_mean']]\n",
    "\n",
    "train = train.merge(cats,on='domain',how='left')\n",
    "\n",
    "for r in range(1,4):\n",
    "    print(r)\n",
    "    train['deltatime_category_1{}'.format(r)] = train[['category_1','timestamp']].groupby(['category_1'])['timestamp'].diff(r).fillna(0-r)\n",
    "    train['deltatime_category_2{}'.format(r)] = train[['category_2','timestamp']].groupby(['category_2'])['timestamp'].diff(r).fillna(0-r)\n",
    "    train['deltatime_device_cat1{}'.format(r)] = train[['device_id','category_1','timestamp']].groupby(['device_id','category_1'])['timestamp'].diff(r).fillna(0-r)\n",
    "    train['deltatime_device_cat2{}'.format(r)] = train[['device_id','category_2','timestamp']].groupby(['device_id','category_2'])['timestamp'].diff(r).fillna(0-r)  "
   ]
  },
  {
   "cell_type": "code",
   "execution_count": null,
   "id": "ef255c8d",
   "metadata": {},
   "outputs": [],
   "source": [
    "train"
   ]
  },
  {
   "cell_type": "code",
   "execution_count": null,
   "id": "aca3c8a4",
   "metadata": {},
   "outputs": [],
   "source": [
    "cols = ['event_group_id','device_id','referrer_num','is_referrer'] + [c for c in train.columns if ('delta' in c) or ('current' in c) or ('cat' in c)]"
   ]
  },
  {
   "cell_type": "code",
   "execution_count": null,
   "id": "0198b854",
   "metadata": {},
   "outputs": [],
   "source": [
    "%%time\n",
    "target_columns = [c for c in cols if c not in ['referrer_num','is_referrer','referrer_domain','referrer_url']]\n",
    "target_data = train[train['referrer_num']=='target'][target_columns]\n",
    "target_data.columns = ['event_group_id','device_id'] + ['target_{}'.format(c) for c in target_data.columns[2:]]\n",
    "train = train[train['referrer_num']!='target'].merge(target_data,on = ['event_group_id','device_id'],how='left')"
   ]
  },
  {
   "cell_type": "code",
   "execution_count": null,
   "id": "8bfb09b6",
   "metadata": {},
   "outputs": [],
   "source": [
    "for column in [c for c in train.columns if ('delta' in c) or ('current' in c) or ('cat' in c)]:\n",
    "    train[column] = train[column].factorize()[0]+2\n",
    "    train[column] = train[column].factorize()[0]+1\n",
    "    c_min = train[column].min()\n",
    "    c_max = train[column].max()\n",
    "    if str(train[column].dtype)[:3] == 'int':\n",
    "        if c_min > np.iinfo(np.int8).min and c_max < np.iinfo(np.int8).max:\n",
    "            train[column] = train[column].astype(np.int8)\n",
    "        elif c_min > np.iinfo(np.int16).min and c_max < np.iinfo(np.int16).max:\n",
    "            train[column] = train[column].astype(np.int16)\n",
    "        elif c_min > np.iinfo(np.int32).min and c_max < np.iinfo(np.int32).max:\n",
    "            train[column] = train[column].astype(np.int32)\n",
    "        elif c_min > np.iinfo(np.int64).min and c_max < np.iinfo(np.int64).max:\n",
    "            train[column] = train[column].astype(np.int64)  \n",
    "    else:\n",
    "        if c_min > np.finfo(np.float16).min and c_max < np.finfo(np.float16).max:\n",
    "            train[column] = train[column].astype(np.float16)\n",
    "        elif c_min > np.finfo(np.float32).min and c_max < np.finfo(np.float32).max:\n",
    "            train[column] = train[column].astype(np.float32)\n",
    "        else:\n",
    "            train[column] = train[column].astype(np.float64)"
   ]
  },
  {
   "cell_type": "code",
   "execution_count": null,
   "id": "5d828761",
   "metadata": {},
   "outputs": [],
   "source": [
    "train"
   ]
  },
  {
   "cell_type": "code",
   "execution_count": null,
   "id": "848583cc",
   "metadata": {},
   "outputs": [],
   "source": [
    "['category_1', 'category_2','target_category_1','target_category_2']\n"
   ]
  },
  {
   "cell_type": "code",
   "execution_count": null,
   "id": "89f295dd",
   "metadata": {},
   "outputs": [],
   "source": [
    "for col in ['category_1', 'category_2','target_category_1','target_category_2']:\n",
    "    print(col)\n",
    "    \n",
    "    if 'target' in col:\n",
    "        cat_packer = train[train['is_referrer']!=2][col].value_counts().reset_index()\n",
    "        na_cat = int(train[col].max() + 1)\n",
    "        z = list(set(cat_packer.loc[cat_packer[col]>=18,'index'].values).intersection(set(train[train['is_referrer']==2][col].unique())))\n",
    "        train.loc[~train[col].isin(z),col] = na_cat\n",
    "    else:\n",
    "        cat_packer = train[train['is_referrer']!=2][col].value_counts().reset_index()\n",
    "        na_cat = int(train[col].max() + 1)\n",
    "        z = list(set(cat_packer.loc[cat_packer[col]>=2,'index'].values).intersection(set(train[train['is_referrer']==2][col].unique())))\n",
    "        train.loc[~train[col].isin(z),col] = na_cat"
   ]
  },
  {
   "cell_type": "code",
   "execution_count": null,
   "id": "47e6b8a2",
   "metadata": {},
   "outputs": [],
   "source": [
    "train"
   ]
  },
  {
   "cell_type": "code",
   "execution_count": null,
   "id": "a7baba62",
   "metadata": {},
   "outputs": [],
   "source": [
    "for col in [c for c in train.columns if ('delta' in c) or ('current' in c) or ('cat' in c)]:\n",
    "    train2[col] = train[col].values"
   ]
  },
  {
   "cell_type": "code",
   "execution_count": null,
   "id": "b3139b4a",
   "metadata": {},
   "outputs": [],
   "source": [
    "train2"
   ]
  },
  {
   "cell_type": "code",
   "execution_count": null,
   "id": "247d2524",
   "metadata": {},
   "outputs": [],
   "source": []
  }
 ],
 "metadata": {
  "kernelspec": {
   "display_name": "Python 3 (ipykernel)",
   "language": "python",
   "name": "python3"
  },
  "language_info": {
   "codemirror_mode": {
    "name": "ipython",
    "version": 3
   },
   "file_extension": ".py",
   "mimetype": "text/x-python",
   "name": "python",
   "nbconvert_exporter": "python",
   "pygments_lexer": "ipython3",
   "version": "3.9.7"
  }
 },
 "nbformat": 4,
 "nbformat_minor": 5
}
